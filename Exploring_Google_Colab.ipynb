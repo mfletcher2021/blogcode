{
  "nbformat": 4,
  "nbformat_minor": 0,
  "metadata": {
    "colab": {
      "provenance": [],
      "authorship_tag": "ABX9TyOvH8p4OgvGm/TweSEl5rUI",
      "include_colab_link": true
    },
    "kernelspec": {
      "name": "python3",
      "display_name": "Python 3"
    },
    "language_info": {
      "name": "python"
    }
  },
  "cells": [
    {
      "cell_type": "markdown",
      "metadata": {
        "id": "view-in-github",
        "colab_type": "text"
      },
      "source": [
        "<a href=\"https://colab.research.google.com/github/mfletcher2021/blogcode/blob/main/Exploring_Google_Colab.ipynb\" target=\"_parent\"><img src=\"https://colab.research.google.com/assets/colab-badge.svg\" alt=\"Open In Colab\"/></a>"
      ]
    },
    {
      "cell_type": "code",
      "execution_count": null,
      "metadata": {
        "colab": {
          "base_uri": "https://localhost:8080/"
        },
        "id": "zB3mwn1hzFwz",
        "outputId": "6db5850c-ccad-4ad1-ddbd-55d89664c615"
      },
      "outputs": [
        {
          "output_type": "stream",
          "name": "stdout",
          "text": [
            "Let's explore how to use Google Colab\n"
          ]
        }
      ],
      "source": [
        "message = 'Let\\'s explore how to use Google Colab'\n",
        "print(message)"
      ]
    },
    {
      "cell_type": "markdown",
      "source": [
        "<h1>Google Colab</h1>\n",
        "<h2>A Michael's Programming Bytes Lesson 2024</h2>\n"
      ],
      "metadata": {
        "id": "owKL9yEw2Iae"
      }
    },
    {
      "cell_type": "markdown",
      "source": [
        "<h3 style=\"color:blue;\">From the mind of Michael</h3>"
      ],
      "metadata": {
        "id": "cdADq7nuyYAQ"
      }
    }
  ]
}