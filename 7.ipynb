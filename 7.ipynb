{
  "nbformat": 4,
  "nbformat_minor": 0,
  "metadata": {
    "colab": {
      "provenance": [],
      "authorship_tag": "ABX9TyPoxElrvE/3p0TafYAWD/AE",
      "include_colab_link": true
    },
    "kernelspec": {
      "name": "python3",
      "display_name": "Python 3"
    },
    "language_info": {
      "name": "python"
    }
  },
  "cells": [
    {
      "cell_type": "markdown",
      "metadata": {
        "id": "view-in-github",
        "colab_type": "text"
      },
      "source": [
        "<a href=\"https://colab.research.google.com/github/mfletcher2021/blogcode/blob/main/7.ipynb\" target=\"_parent\"><img src=\"https://colab.research.google.com/assets/colab-badge.svg\" alt=\"Open In Colab\"/></a>"
      ]
    },
    {
      "cell_type": "markdown",
      "source": [
        "<h2>Installing the pytesseract package</h2>"
      ],
      "metadata": {
        "id": "ORF4azFmn9FX"
      }
    },
    {
      "cell_type": "code",
      "source": [
        "!pip install pytesseract"
      ],
      "metadata": {
        "colab": {
          "base_uri": "https://localhost:8080/"
        },
        "id": "Y2XRuwKxlMBU",
        "outputId": "3dc6fa35-3236-482a-ddad-e4c1b840d9ad"
      },
      "execution_count": 2,
      "outputs": [
        {
          "output_type": "stream",
          "name": "stdout",
          "text": [
            "Collecting pytesseract\n",
            "  Downloading pytesseract-0.3.13-py3-none-any.whl.metadata (11 kB)\n",
            "Requirement already satisfied: packaging>=21.3 in /usr/local/lib/python3.11/dist-packages (from pytesseract) (24.2)\n",
            "Requirement already satisfied: Pillow>=8.0.0 in /usr/local/lib/python3.11/dist-packages (from pytesseract) (11.2.1)\n",
            "Downloading pytesseract-0.3.13-py3-none-any.whl (14 kB)\n",
            "Installing collected packages: pytesseract\n",
            "Successfully installed pytesseract-0.3.13\n"
          ]
        }
      ]
    },
    {
      "cell_type": "markdown",
      "source": [
        "<h2>Importing the necessary modules</h2>"
      ],
      "metadata": {
        "id": "UyM5ctpXoD0U"
      }
    },
    {
      "cell_type": "code",
      "source": [
        "import pytesseract\n",
        "import numpy as np\n",
        "from PIL import Image"
      ],
      "metadata": {
        "id": "D80bBNsflTJ0"
      },
      "execution_count": 3,
      "outputs": []
    },
    {
      "cell_type": "markdown",
      "source": [
        "<h2>Performing OCR on the image<h2>"
      ],
      "metadata": {
        "id": "uZes6w-YomgP"
      }
    },
    {
      "cell_type": "code",
      "source": [
        "testImage = '7 years.png'\n",
        "testImageNP = np.array(Image.open(testImage))\n",
        "testImageTEXT = pytesseract.image_to_string(testImageNP)\n",
        "print(testImageTEXT)"
      ],
      "metadata": {
        "colab": {
          "base_uri": "https://localhost:8080/"
        },
        "id": "M1TDE9iPlvvU",
        "outputId": "4b04f52e-6ab8-4a7a-b3e1-db465438f1d9"
      },
      "execution_count": 4,
      "outputs": [
        {
          "output_type": "stream",
          "name": "stdout",
          "text": [
            "Thank you for 7\n",
            "wonderful years!\n",
            "\f\n"
          ]
        }
      ]
    }
  ]
}